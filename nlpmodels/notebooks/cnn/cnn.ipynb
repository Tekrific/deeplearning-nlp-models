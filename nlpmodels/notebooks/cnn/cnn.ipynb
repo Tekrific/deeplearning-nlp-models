{
 "cells": [
  {
   "cell_type": "markdown",
   "metadata": {
    "collapsed": true,
    "pycharm": {
     "name": "#%% md\n"
    }
   },
   "source": [
    "# CNN-based Text Classification"
   ]
  },
  {
   "cell_type": "markdown",
   "source": [
    "## Imports\n",
    "\n",
    "Here are the packages we need to import."
   ],
   "metadata": {
    "collapsed": false,
    "pycharm": {
     "name": "#%% md\n"
    }
   }
  },
  {
   "cell_type": "code",
   "execution_count": 5,
   "outputs": [],
   "source": [
    "from nlpmodels.models import text_cnn\n",
    "from nlpmodels.utils import train,utils,text_cnn_dataset\n",
    "from argparse import Namespace\n",
    "utils.set_seed_everywhere()\n"
   ],
   "metadata": {
    "collapsed": false,
    "pycharm": {
     "name": "#%%\n"
    }
   }
  },
  {
   "cell_type": "markdown",
   "source": [
    "## Sentiment Analysis with CNNs\n",
    "\n",
    "Following the logic in Kim's paper, we are running an embedding + convolutional layer architecture in order\n",
    "to conduct sentiment analysis."
   ],
   "metadata": {
    "collapsed": false
   }
  },
  {
   "cell_type": "markdown",
   "source": [
    "### Hyper-parameters\n",
    "\n",
    "These are the data processing and model training hyper-parameters for this run. Note that we are running a smaller model\n",
    "than cited in the paper for fewer iterations...on a CPU. This is meant merely to demonstrate it works."
   ],
   "metadata": {
    "collapsed": false
   }
  },
  {
   "cell_type": "code",
   "execution_count": 6,
   "outputs": [],
   "source": [
    "args = Namespace(\n",
    "        # Model hyper-parameters\n",
    "        max_sequence_length=175,\n",
    "        dim_model=100,\n",
    "        num_filters=3,\n",
    "        window_sizes=[3,4,5],\n",
    "        num_classes=2,\n",
    "        dropout=0.5, #from paper\n",
    "        # Training hyper-parameters\n",
    "        num_epochs=30, #30 from original implementation\n",
    "        learning_rate=1.e-3,\n",
    "        batch_size=50\n",
    ")"
   ],
   "metadata": {
    "collapsed": false,
    "pycharm": {
     "name": "#%% Parameters\n"
    }
   }
  },
  {
   "cell_type": "code",
   "execution_count": 7,
   "outputs": [
    {
     "name": "stderr",
     "output_type": "stream",
     "text": [
      "25000lines [00:01, 18234.04lines/s]\n"
     ]
    }
   ],
   "source": [
    "train_loader, vocab = text_cnn_dataset.TextCNNDataset.get_training_dataloader(args)\n",
    "model = text_cnn.TextCNN(vocab_size = len(vocab),\n",
    "                        dim_model = args.dim_model,\n",
    "                        num_filters = args.num_filters,\n",
    "                        window_sizes =  args.window_sizes,\n",
    "                        num_classes = args.num_classes,\n",
    "                        dropout = args.dropout)\n",
    "\n",
    "trainer = train.TextCNNTrainer(args, vocab.mask_index, model, train_loader, vocab)"
   ],
   "metadata": {
    "collapsed": false,
    "pycharm": {
     "name": "#%%\n"
    }
   }
  },
  {
   "cell_type": "markdown",
   "source": [
    "Let's run this."
   ],
   "metadata": {
    "collapsed": false,
    "pycharm": {
     "name": "#%% md\n"
    }
   }
  },
  {
   "cell_type": "code",
   "execution_count": 8,
   "outputs": [
    {
     "name": "stderr",
     "output_type": "stream",
     "text": [
      "[Epoch 0]: 100%|██████████| 263/263 [00:49<00:00,  5.37it/s, accuracy=4.67, loss=0]       \n",
      "[Epoch 1]: 100%|██████████| 263/263 [00:48<00:00,  5.38it/s, accuracy=4.67, loss=2.57e-5] \n",
      "[Epoch 2]: 100%|██████████| 263/263 [00:49<00:00,  5.32it/s, accuracy=4.67, loss=0]       \n",
      "[Epoch 3]: 100%|██████████| 263/263 [00:49<00:00,  5.27it/s, accuracy=4.67, loss=0]       \n",
      "[Epoch 4]: 100%|██████████| 263/263 [00:49<00:00,  5.28it/s, accuracy=4.67, loss=0]       \n",
      "[Epoch 5]: 100%|██████████| 263/263 [00:50<00:00,  5.22it/s, accuracy=4.67, loss=0]       \n",
      "[Epoch 6]: 100%|██████████| 263/263 [00:50<00:00,  5.23it/s, accuracy=4.67, loss=0]       \n",
      "[Epoch 7]: 100%|██████████| 263/263 [00:51<00:00,  5.13it/s, accuracy=4.67, loss=0.272]   \n",
      "[Epoch 8]: 100%|██████████| 263/263 [00:50<00:00,  5.16it/s, accuracy=4.67, loss=0]       \n",
      "[Epoch 9]: 100%|██████████| 263/263 [00:51<00:00,  5.14it/s, accuracy=4.67, loss=0]       \n",
      "[Epoch 10]: 100%|██████████| 263/263 [00:51<00:00,  5.11it/s, accuracy=4.67, loss=0]       \n",
      "[Epoch 11]: 100%|██████████| 263/263 [00:50<00:00,  5.16it/s, accuracy=4.67, loss=0.0927]  \n",
      "[Epoch 12]: 100%|██████████| 263/263 [00:50<00:00,  5.17it/s, accuracy=4.67, loss=0]       \n",
      "[Epoch 13]: 100%|██████████| 263/263 [00:51<00:00,  5.13it/s, accuracy=4.67, loss=0.155]   \n",
      "[Epoch 14]: 100%|██████████| 263/263 [00:50<00:00,  5.20it/s, accuracy=4.67, loss=0]       \n",
      "[Epoch 15]: 100%|██████████| 263/263 [00:51<00:00,  5.15it/s, accuracy=4.67, loss=1.63e-5] \n",
      "[Epoch 16]: 100%|██████████| 263/263 [00:50<00:00,  5.16it/s, accuracy=4.67, loss=0]       \n",
      "[Epoch 17]: 100%|██████████| 263/263 [00:50<00:00,  5.19it/s, accuracy=4.67, loss=0]       \n",
      "[Epoch 18]: 100%|██████████| 263/263 [00:50<00:00,  5.18it/s, accuracy=4.67, loss=0]       \n",
      "[Epoch 19]: 100%|██████████| 263/263 [00:50<00:00,  5.17it/s, accuracy=4.67, loss=0]      \n",
      "[Epoch 20]: 100%|██████████| 263/263 [00:52<00:00,  5.05it/s, accuracy=4.67, loss=0]       \n",
      "[Epoch 21]: 100%|██████████| 263/263 [00:51<00:00,  5.11it/s, accuracy=4.67, loss=0]       \n",
      "[Epoch 22]: 100%|██████████| 263/263 [00:50<00:00,  5.16it/s, accuracy=4.67, loss=0]      \n",
      "[Epoch 23]: 100%|██████████| 263/263 [00:51<00:00,  5.14it/s, accuracy=4.67, loss=2.74e-6]\n",
      "[Epoch 24]: 100%|██████████| 263/263 [00:51<00:00,  5.14it/s, accuracy=4.67, loss=0]      \n",
      "[Epoch 25]: 100%|██████████| 263/263 [00:50<00:00,  5.18it/s, accuracy=4.67, loss=0]      \n",
      "[Epoch 26]: 100%|██████████| 263/263 [00:51<00:00,  5.14it/s, accuracy=4.67, loss=0]      \n",
      "[Epoch 27]: 100%|██████████| 263/263 [00:51<00:00,  5.10it/s, accuracy=4.67, loss=0]      \n",
      "[Epoch 28]: 100%|██████████| 263/263 [00:51<00:00,  5.12it/s, accuracy=4.67, loss=0]       \n",
      "[Epoch 29]: 100%|██████████| 263/263 [00:51<00:00,  5.15it/s, accuracy=4.67, loss=0]      \n"
     ]
    },
    {
     "name": "stdout",
     "output_type": "stream",
     "text": [
      "Finished Training...\n"
     ]
    }
   ],
   "source": [
    "trainer.run()"
   ],
   "metadata": {
    "collapsed": false,
    "pycharm": {
     "name": "#%%\n"
    }
   }
  },
  {
   "cell_type": "markdown",
   "source": [
    "The goal is just to show how this works - you can play with the hyper-parameters as you see fit.\n",
    "\n",
    "In an ideal situation, we would check the data against an unseen val or test set to diagnose performance.\n"
   ],
   "metadata": {
    "collapsed": false,
    "pycharm": {
     "name": "#%% md\n"
    }
   }
  }
 ],
 "metadata": {
  "kernelspec": {
   "display_name": "Python 3",
   "language": "python",
   "name": "python3"
  },
  "language_info": {
   "codemirror_mode": {
    "name": "ipython",
    "version": 2
   },
   "file_extension": ".py",
   "mimetype": "text/x-python",
   "name": "python",
   "nbconvert_exporter": "python",
   "pygments_lexer": "ipython2",
   "version": "2.7.6"
  }
 },
 "nbformat": 4,
 "nbformat_minor": 0
}