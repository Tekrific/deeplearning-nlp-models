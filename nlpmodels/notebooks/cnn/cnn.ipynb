{
 "cells": [
  {
   "cell_type": "markdown",
   "metadata": {
    "collapsed": true,
    "pycharm": {
     "name": "#%% md\n"
    }
   },
   "source": [
    "# CNN-based Text Classification"
   ]
  },
  {
   "cell_type": "markdown",
   "source": [
    "## Imports\n",
    "\n",
    "Here are the packages we need to import."
   ],
   "metadata": {
    "collapsed": false,
    "pycharm": {
     "name": "#%% md\n"
    }
   }
  },
  {
   "cell_type": "code",
   "execution_count": 1,
   "outputs": [],
   "source": [
    "from nlpmodels.models import text_cnn\n",
    "from nlpmodels.utils import train,utils,text_cnn_dataset\n",
    "from argparse import Namespace\n",
    "utils.set_seed_everywhere()\n"
   ],
   "metadata": {
    "collapsed": false,
    "pycharm": {
     "name": "#%%\n"
    }
   }
  },
  {
   "cell_type": "markdown",
   "source": [
    "## Sentiment Analysis with CNNs\n",
    "\n",
    "Following the logic in Kim's paper, we are running an embedding + convolutional layer architecture in order\n",
    "to conduct sentiment analysis."
   ],
   "metadata": {
    "collapsed": false
   }
  },
  {
   "cell_type": "markdown",
   "source": [
    "### Hyper-parameters\n",
    "\n",
    "These are the data processing and model training hyper-parameters for this run. Note that we are running a smaller model\n",
    "than cited in the paper for fewer iterations...on a CPU. This is meant merely to demonstrate it works."
   ],
   "metadata": {
    "collapsed": false
   }
  },
  {
   "cell_type": "code",
   "execution_count": 2,
   "outputs": [],
   "source": [
    "args = Namespace(\n",
    "        # Model hyper-parameters\n",
    "        max_sequence_length=400, #Important parameter. Makes a big difference on output.\n",
    "        dim_model=50, # embedding size I tried 300->50\n",
    "        num_filters=100, # output filters from convolution\n",
    "        window_sizes=[3,5], # different filter sizes, total number of filters len(window_sizes)*num_filters\n",
    "        num_classes=2, # binary classification problem\n",
    "        dropout=0.5, # 0.5 from original implementation, kind of high\n",
    "        # Training hyper-parameters\n",
    "        num_epochs=3, #30 from original implementation\n",
    "        learning_rate=1.e-4, #chosing LR is important, often accompanied with scheduler to change\n",
    "        batch_size=64 #from original implementation\n",
    ")"
   ],
   "metadata": {
    "collapsed": false,
    "pycharm": {
     "name": "#%% Parameters\n"
    }
   }
  },
  {
   "cell_type": "code",
   "execution_count": 3,
   "outputs": [
    {
     "name": "stderr",
     "output_type": "stream",
     "text": [
      "25000lines [00:01, 15721.50lines/s]\n"
     ]
    }
   ],
   "source": [
    "train_loader, vocab = text_cnn_dataset.TextCNNDataset.get_training_dataloader(args)\n",
    "model = text_cnn.TextCNN(vocab_size = len(vocab),\n",
    "                        dim_model = args.dim_model,\n",
    "                        num_filters = args.num_filters,\n",
    "                        window_sizes =  args.window_sizes,\n",
    "                        num_classes = args.num_classes,\n",
    "                        dropout = args.dropout)\n",
    "\n",
    "trainer = train.TextCNNTrainer(args, vocab.mask_index, model, train_loader, vocab)"
   ],
   "metadata": {
    "collapsed": false,
    "pycharm": {
     "name": "#%%\n"
    }
   }
  },
  {
   "cell_type": "markdown",
   "source": [
    "Let's run this."
   ],
   "metadata": {
    "collapsed": false,
    "pycharm": {
     "name": "#%% md\n"
    }
   }
  },
  {
   "cell_type": "code",
   "execution_count": 4,
   "outputs": [
    {
     "name": "stderr",
     "output_type": "stream",
     "text": [
      "  correct += (np.round(F.softmax(y_hat)[:,1].detach().numpy()).reshape(y_hat.shape[0],1) == target.data.numpy()).sum()\n",
      "[Epoch 0]: 100%|██████████| 342/342 [02:47<00:00,  2.04it/s, accuracy=42.8, loss=0.0469]\n",
      "[Epoch 1]: 100%|██████████| 342/342 [02:34<00:00,  2.22it/s, accuracy=42.8, loss=0.00377]\n",
      "[Epoch 2]: 100%|██████████| 342/342 [02:35<00:00,  2.20it/s, accuracy=42.8, loss=0.000307]\n"
     ]
    },
    {
     "name": "stdout",
     "output_type": "stream",
     "text": [
      "Finished Training...\n"
     ]
    }
   ],
   "source": [
    "trainer.run()"
   ],
   "metadata": {
    "collapsed": false,
    "pycharm": {
     "name": "#%%\n"
    }
   }
  },
  {
   "cell_type": "markdown",
   "source": [
    "### Review\n",
    "\n",
    "The goal is just to show how this works - you can play with the hyper-parameters as you see fit.\n",
    "In an ideal situation, we would check the data against an unseen val or test set to diagnose performance.\n",
    "\n",
    "#### Parameter importance\n",
    "\n",
    "In playing with the model's hyper-parameters, there are a few things to note\n",
    "\n",
    "- *max_sequence_length*: This parameter makes a very big difference in the model accuracy. Too small, and the model does\n",
    "not have a sufficient amount of context for learning the target. I started off with something way too small and the accuracy\n",
    "never eclipsed higher than 6%.\n",
    "- *num_filters*: This parameter was originally set to 100, but I varied it and found that if could go <10.\n",
    "- *learning_rate*: The learning rate in a pretty important aspect of training a model. I set the parameter to be static,\n",
    "but often times it makes sense to use a scheduler to allow larger parameter changes initially and then fine-tune over updates.\n",
    "\n"
   ],
   "metadata": {
    "collapsed": false,
    "pycharm": {
     "name": "#%% md\n"
    }
   }
  }
 ],
 "metadata": {
  "kernelspec": {
   "display_name": "Python 3",
   "language": "python",
   "name": "python3"
  },
  "language_info": {
   "codemirror_mode": {
    "name": "ipython",
    "version": 2
   },
   "file_extension": ".py",
   "mimetype": "text/x-python",
   "name": "python",
   "nbconvert_exporter": "python",
   "pygments_lexer": "ipython2",
   "version": "2.7.6"
  }
 },
 "nbformat": 4,
 "nbformat_minor": 0
}